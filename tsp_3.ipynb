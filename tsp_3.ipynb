{
 "cells": [
  {
   "cell_type": "code",
   "execution_count": null,
   "metadata": {},
   "outputs": [],
   "source": [
    "\n",
    "data = get_data('TSPD.csv')\n",
    "data = np.array([(0, 0), (5, 3), (1, 4), (3, 1), (7, 3), (2,5), (4,4)]) * 100\n",
    "alg = GreedyAlgorithm(data)\n",
    "\n",
    "\n",
    "alg.starting_solution(1)\n",
    "\n",
    "while round(len(data)/2)>len(alg.cur_tour):\n",
    "    previous_index, new_node = alg.next_node()\n",
    "    alg.add_to_tour( alg.endings[previous_index], new_node)\n",
    "    plotMap(data, alg.cur_tour, cost = False)\n",
    "alg.add_to_tour(new_node, alg.endings[(previous_index+1)%1])\n",
    "plotMap(data, alg.cur_tour, cost = False)\n",
    "\n"
   ]
  }
 ],
 "metadata": {
  "kernelspec": {
   "display_name": "Python 3",
   "language": "python",
   "name": "python3"
  },
  "language_info": {
   "name": "python",
   "version": "3.10.12"
  }
 },
 "nbformat": 4,
 "nbformat_minor": 2
}

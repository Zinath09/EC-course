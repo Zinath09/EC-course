{
 "cells": [
  {
   "cell_type": "code",
   "execution_count": 2,
   "metadata": {},
   "outputs": [
    {
     "name": "stdout",
     "output_type": "stream",
     "text": [
      "The autoreload extension is already loaded. To reload it, use:\n",
      "  %reload_ext autoreload\n",
      "[[2907, 1115, 464], [3433, 183, 932], [2237, 74, 130], [91, 583, 503], [3053, 1867, 496], [2698, 436, 283], [1940, 1520, 735], [1251, 807, 893], [1415, 700, 128], [472, 498, 979], [1537, 1883, 759], [2839, 370, 754], [1083, 1307, 27], [702, 196, 680], [1393, 917, 523], [2901, 1231, 978], [1650, 1001, 65], [2111, 323, 785], [1596, 1302, 48], [2260, 1365, 382], [1427, 425, 871], [603, 513, 421], [1967, 1119, 827], [3781, 1575, 818], [3506, 628, 263], [3877, 1877, 102], [3019, 651, 468], [3070, 845, 868], [415, 1327, 577], [1782, 1395, 397], [1470, 76, 881], [3361, 93, 210], [1275, 65, 513], [1879, 1535, 347], [3019, 396, 142], [111, 1959, 973], [3818, 1948, 163], [3441, 1571, 322], [3882, 128, 122], [18, 481, 996], [1610, 511, 488], [3355, 1511, 863], [3613, 56, 599], [3408, 1072, 594], [520, 950, 44], [48, 791, 582], [2654, 1329, 755], [1047, 1727, 522], [1865, 88, 822], [3670, 1131, 786], [3577, 937, 223], [76, 89, 219], [1361, 1158, 253], [965, 239, 372], [2286, 474, 898], [3097, 1853, 419], [3065, 1697, 757], [2920, 1262, 323], [105, 1594, 409], [671, 1301, 305], [697, 674, 677], [1745, 1878, 508], [2977, 1306, 863], [1338, 569, 248], [227, 1740, 89], [1462, 1143, 589], [2827, 838, 10], [15, 850, 52], [3615, 1785, 819], [1301, 119, 403], [51, 55, 341], [571, 1137, 141], [79, 1363, 391], [1673, 1728, 132], [2050, 831, 869], [2290, 386, 792], [1392, 1687, 990], [2988, 1197, 769], [113, 685, 594], [2376, 1905, 456], [2759, 1735, 29], [1570, 1550, 756], [1288, 418, 92], [302, 27, 894], [1098, 822, 460], [198, 1340, 381], [2324, 1667, 766], [712, 1724, 566], [3204, 1888, 7], [114, 1746, 94], [1510, 1997, 715], [45, 102, 154], [3188, 685, 434], [3797, 570, 957], [3850, 1115, 550], [2113, 924, 343], [1124, 21, 674], [938, 1229, 523], [2636, 982, 892], [3219, 1168, 17], [974, 1938, 764], [3492, 30, 12], [3414, 1382, 524], [3955, 307, 85], [763, 1496, 990], [2549, 34, 713], [1755, 967, 973], [987, 1241, 343], [3738, 852, 976], [993, 1484, 542], [259, 1211, 612], [3161, 968, 774], [3978, 1299, 309], [1312, 81, 501], [96, 1161, 177], [1447, 329, 186], [3265, 1101, 685], [517, 817, 37], [2173, 828, 957], [668, 1265, 298], [2325, 1497, 848], [3497, 514, 179], [3254, 623, 271], [3640, 1708, 555], [475, 1058, 979], [3883, 770, 795], [101, 870, 598], [3449, 614, 178], [2757, 623, 472], [177, 1705, 114], [585, 93, 150], [3804, 562, 306], [1408, 1387, 210], [2362, 430, 546], [3897, 1849, 398], [2505, 1130, 108], [1803, 1970, 112], [3225, 1598, 133], [814, 501, 539], [965, 1129, 417], [484, 15, 128], [632, 47, 108], [657, 230, 20], [3277, 549, 50], [2704, 641, 807], [2562, 1941, 82], [3187, 1506, 604], [309, 1858, 268], [580, 32, 68], [1018, 111, 779], [447, 891, 240], [2419, 1862, 976], [3919, 922, 449], [2992, 1861, 167], [3938, 1753, 48], [287, 640, 573], [53, 519, 308], [2662, 1812, 190], [240, 900, 443], [216, 1867, 115], [2795, 1970, 749], [440, 96, 591], [367, 922, 181], [1999, 446, 444], [2897, 992, 846], [3459, 1589, 307], [373, 1256, 375], [2601, 478, 611], [1881, 1354, 673], [2827, 875, 425], [1096, 1974, 247], [114, 1547, 488], [1977, 836, 264], [1435, 1145, 974], [329, 134, 137], [2620, 1242, 920], [500, 1955, 943], [1710, 1478, 855], [2742, 622, 728], [3308, 477, 154], [2730, 1992, 668], [798, 1903, 264], [2208, 356, 273], [3117, 447, 300], [1271, 98, 775], [1476, 1562, 144], [3670, 1607, 988], [688, 1829, 662], [465, 20, 572], [985, 1708, 289], [2312, 1346, 141], [618, 752, 983], [521, 580, 358], [694, 1205, 460], [3747, 1842, 628], [1252, 970, 941], [613, 784, 219], [3139, 470, 298], [2465, 1165, 285], [2148, 1430, 888]]\n",
      "200\n",
      "is_cost True\n"
     ]
    },
    {
     "data": {
      "text/plain": [
       "array([[  inf, 1070., 1237., ...,  685.,  444.,  821.],\n",
       "       [1070.,   inf, 1200., ...,  410., 1378., 1790.],\n",
       "       [1237., 1200.,   inf, ...,  985., 1114., 1358.],\n",
       "       ...,\n",
       "       [ 685.,  410.,  985., ...,   inf,  968., 1379.],\n",
       "       [ 444., 1378., 1114., ...,  968.,   inf,  413.],\n",
       "       [ 821., 1790., 1358., ..., 1379.,  413.,   inf]])"
      ]
     },
     "execution_count": 2,
     "metadata": {},
     "output_type": "execute_result"
    }
   ],
   "source": [
    "import csv\n",
    "import matplotlib.pyplot as plt\n",
    "import numpy as np\n",
    "import pandas as pd\n",
    "import csv\n",
    "from utils import *\n",
    "%load_ext autoreload\n",
    "%autoreload 2\n",
    "from algorithms import *\n",
    "%load_ext autoreload\n",
    "%autoreload 2\n",
    "import random\n",
    "\n",
    "data = get_data('TSPD.csv')\n",
    "# data = np.array([(0, 0), (1, 2), (2, 4), (3, 1), (7, 3), (2,5), (4,4)]) * 10\n",
    "NR_NODES = len(data)\n",
    "HALF_NODES = int(len(data)/2)\n",
    "print(data)\n",
    "print(NR_NODES)\n",
    "\n",
    "if len(data[0])==2:\n",
    "    is_cost = False\n",
    "else:\n",
    "    is_cost = True\n",
    "print(\"is_cost\",is_cost)\n",
    "matrix, cost_list =  get_dist_matrix_and_cost(data, cost=is_cost)\n",
    "matrix\n"
   ]
  },
  {
   "cell_type": "code",
   "execution_count": 3,
   "metadata": {},
   "outputs": [
    {
     "name": "stdout",
     "output_type": "stream",
     "text": [
      "1 76397.0\n"
     ]
    },
    {
     "data": {
      "text/plain": [
       "(76397.0,\n",
       " [(101, 1),\n",
       "  [3, 9],\n",
       "  [17, 2],\n",
       "  [8, 7],\n",
       "  [12, 8],\n",
       "  [18, 12],\n",
       "  [21, 3],\n",
       "  [26, 27],\n",
       "  [13, 53],\n",
       "  [20, 40],\n",
       "  [120, 19],\n",
       "  [40, 48],\n",
       "  [48, 17],\n",
       "  [2, 54],\n",
       "  [5, 11],\n",
       "  [0, 15],\n",
       "  [49, 43],\n",
       "  [24, 50],\n",
       "  [50, 49],\n",
       "  [31, 101],\n",
       "  [11, 34],\n",
       "  [1, 38],\n",
       "  [93, 24],\n",
       "  [28, 59],\n",
       "  [147, 35],\n",
       "  [58, 72],\n",
       "  [60, 21],\n",
       "  [87, 176],\n",
       "  [176, 147],\n",
       "  [72, 85],\n",
       "  [85, 28],\n",
       "  [7, 52],\n",
       "  [38, 103],\n",
       "  [103, 93],\n",
       "  [44, 117],\n",
       "  [22, 29],\n",
       "  [29, 6],\n",
       "  [130, 13],\n",
       "  [47, 100],\n",
       "  [100, 87],\n",
       "  [52, 109],\n",
       "  [109, 47],\n",
       "  [35, 64],\n",
       "  [64, 58],\n",
       "  [10, 76],\n",
       "  [6, 33],\n",
       "  [76, 81],\n",
       "  [81, 18],\n",
       "  [33, 61],\n",
       "  [61, 10],\n",
       "  [27, 66],\n",
       "  [92, 26],\n",
       "  [46, 86],\n",
       "  [86, 120],\n",
       "  [54, 128],\n",
       "  [128, 5],\n",
       "  [32, 30],\n",
       "  [30, 20],\n",
       "  [96, 32],\n",
       "  [66, 98],\n",
       "  [98, 0],\n",
       "  [53, 149],\n",
       "  [149, 96],\n",
       "  [59, 71],\n",
       "  [4, 56],\n",
       "  [25, 36],\n",
       "  [41, 37],\n",
       "  [55, 4],\n",
       "  [36, 68],\n",
       "  [134, 25],\n",
       "  [80, 46],\n",
       "  [15, 57],\n",
       "  [68, 88],\n",
       "  [88, 55],\n",
       "  [57, 62],\n",
       "  [71, 124],\n",
       "  [124, 44],\n",
       "  [62, 99],\n",
       "  [9, 51],\n",
       "  [51, 83],\n",
       "  [83, 140],\n",
       "  [140, 130],\n",
       "  [99, 102],\n",
       "  [102, 41],\n",
       "  [179, 31],\n",
       "  [143, 179],\n",
       "  [122, 143],\n",
       "  [34, 183],\n",
       "  [183, 122],\n",
       "  [23, 112],\n",
       "  [37, 123],\n",
       "  [123, 23],\n",
       "  [112, 154],\n",
       "  [154, 134],\n",
       "  [56, 160],\n",
       "  [160, 80],\n",
       "  [117, 191],\n",
       "  [191, 60],\n",
       "  [19, 74],\n",
       "  [74, 22],\n",
       "  [43, 111],\n",
       "  [111, 92]])"
      ]
     },
     "execution_count": 3,
     "metadata": {},
     "output_type": "execute_result"
    }
   ],
   "source": [
    "two_regret_greedy_cycle(matrix,cost_list,NR_NODES, HALF_NODES, 1, verbose = False)\n"
   ]
  },
  {
   "cell_type": "code",
   "execution_count": 4,
   "metadata": {},
   "outputs": [
    {
     "name": "stdout",
     "output_type": "stream",
     "text": [
      "********** EXPERIMENT: START FROM RANDOM NODE **********\n",
      "100 75721.0\n",
      "21 75981.0\n",
      "104 75187.0\n",
      "42 75364.0\n",
      "21 75981.0\n",
      "73 74631.0\n",
      "37 75691.0\n",
      "69 74532.0\n",
      "130 74564.0\n",
      "181 74164.0\n",
      "62 75562.0\n",
      "2 74256.0\n",
      "25 75478.0\n",
      "116 74325.0\n",
      "147 73258.0\n",
      "8 73876.0\n",
      "53 75963.0\n",
      "97 72885.0\n",
      "116 74325.0\n",
      "42 75364.0\n",
      "63 74315.0\n",
      "45 76713.0\n",
      "194 75570.0\n",
      "185 75446.0\n",
      "76 73701.0\n",
      "167 71131.0\n",
      "133 77181.0\n",
      "13 75711.0\n",
      "145 76697.0\n",
      "144 74506.0\n",
      "97 72885.0\n"
     ]
    },
    {
     "ename": "KeyboardInterrupt",
     "evalue": "",
     "output_type": "error",
     "traceback": [
      "\u001b[0;31m---------------------------------------------------------------------------\u001b[0m",
      "\u001b[0;31mKeyboardInterrupt\u001b[0m                         Traceback (most recent call last)",
      "\u001b[1;32m/home/zuzabu/projects/tsp/tsp_2.ipynb Komórka 3\u001b[0m line \u001b[0;36m6\n\u001b[1;32m      <a href='vscode-notebook-cell:/home/zuzabu/projects/tsp/tsp_2.ipynb#W2sZmlsZQ%3D%3D?line=1'>2</a>\u001b[0m \u001b[39mprint\u001b[39m(\u001b[39m\"\u001b[39m\u001b[39m*\u001b[39m\u001b[39m\"\u001b[39m\u001b[39m*\u001b[39m\u001b[39m10\u001b[39m,\u001b[39m\"\u001b[39m\u001b[39mEXPERIMENT: START FROM RANDOM NODE\u001b[39m\u001b[39m\"\u001b[39m, \u001b[39m\"\u001b[39m\u001b[39m*\u001b[39m\u001b[39m\"\u001b[39m\u001b[39m*\u001b[39m\u001b[39m10\u001b[39m)\n\u001b[1;32m      <a href='vscode-notebook-cell:/home/zuzabu/projects/tsp/tsp_2.ipynb#W2sZmlsZQ%3D%3D?line=3'>4</a>\u001b[0m random_list \u001b[39m=\u001b[39m [random\u001b[39m.\u001b[39mrandint(\u001b[39m0\u001b[39m,NR_NODES\u001b[39m-\u001b[39m\u001b[39m1\u001b[39m) \u001b[39mfor\u001b[39;00m i \u001b[39min\u001b[39;00m \u001b[39mrange\u001b[39m(\u001b[39m100\u001b[39m)]\n\u001b[0;32m----> <a href='vscode-notebook-cell:/home/zuzabu/projects/tsp/tsp_2.ipynb#W2sZmlsZQ%3D%3D?line=5'>6</a>\u001b[0m res_random, best_tour_random,index_random \u001b[39m=\u001b[39m  repeat(two_regret_greedy_cycle, random_list , matrix, cost_list, NR_NODES, HALF_NODES)\n\u001b[1;32m      <a href='vscode-notebook-cell:/home/zuzabu/projects/tsp/tsp_2.ipynb#W2sZmlsZQ%3D%3D?line=6'>7</a>\u001b[0m \u001b[39mprint\u001b[39m(\u001b[39m\"\u001b[39m\u001b[39m\\n\u001b[39;00m\u001b[39mFOR 2-regret\u001b[39m\u001b[39m\"\u001b[39m)\n\u001b[1;32m      <a href='vscode-notebook-cell:/home/zuzabu/projects/tsp/tsp_2.ipynb#W2sZmlsZQ%3D%3D?line=7'>8</a>\u001b[0m present_statistic(res_random)\n",
      "File \u001b[0;32m~/projects/tsp/utils.py:90\u001b[0m, in \u001b[0;36mrepeat\u001b[0;34m(method, indices, distance_matrix, cost_list, NR_NODES, HALF_NODES)\u001b[0m\n\u001b[1;32m     88\u001b[0m best_ind \u001b[39m=\u001b[39m \u001b[39m-\u001b[39m\u001b[39m1\u001b[39m\n\u001b[1;32m     89\u001b[0m \u001b[39mfor\u001b[39;00m i \u001b[39min\u001b[39;00m indices:\n\u001b[0;32m---> 90\u001b[0m     cost, sol \u001b[39m=\u001b[39m method(distance_matrix, cost_list, NR_NODES, HALF_NODES, i)\n\u001b[1;32m     91\u001b[0m     total_cost\u001b[39m.\u001b[39mappend(cost)\n\u001b[1;32m     92\u001b[0m     \u001b[39mif\u001b[39;00m cost\u001b[39m<\u001b[39mbest_cost:\n",
      "File \u001b[0;32m~/projects/tsp/algorithms.py:33\u001b[0m, in \u001b[0;36mtwo_regret_greedy_cycle\u001b[0;34m(distance_matrix, cost_list, NR_NODES, HALF_NODES, starting_node, verbose)\u001b[0m\n\u001b[1;32m     31\u001b[0m \u001b[39m#if we add new_node in place of edge\u001b[39;00m\n\u001b[1;32m     32\u001b[0m sim_non_visited \u001b[39m=\u001b[39m deepcopy(non_visited)\n\u001b[0;32m---> 33\u001b[0m sim_cur_tour \u001b[39m=\u001b[39m deepcopy(cur_tour)\n\u001b[1;32m     34\u001b[0m sim_cur_tour, cost_diff \u001b[39m=\u001b[39m add_to_cycle(edge, new_node, distance_matrix, sim_cur_tour, cost_list)\n\u001b[1;32m     35\u001b[0m sim_non_visited\u001b[39m.\u001b[39mremove(new_node)\n",
      "File \u001b[0;32m/usr/lib/python3.10/copy.py:146\u001b[0m, in \u001b[0;36mdeepcopy\u001b[0;34m(x, memo, _nil)\u001b[0m\n\u001b[1;32m    144\u001b[0m copier \u001b[39m=\u001b[39m _deepcopy_dispatch\u001b[39m.\u001b[39mget(\u001b[39mcls\u001b[39m)\n\u001b[1;32m    145\u001b[0m \u001b[39mif\u001b[39;00m copier \u001b[39mis\u001b[39;00m \u001b[39mnot\u001b[39;00m \u001b[39mNone\u001b[39;00m:\n\u001b[0;32m--> 146\u001b[0m     y \u001b[39m=\u001b[39m copier(x, memo)\n\u001b[1;32m    147\u001b[0m \u001b[39melse\u001b[39;00m:\n\u001b[1;32m    148\u001b[0m     \u001b[39mif\u001b[39;00m \u001b[39missubclass\u001b[39m(\u001b[39mcls\u001b[39m, \u001b[39mtype\u001b[39m):\n",
      "File \u001b[0;32m/usr/lib/python3.10/copy.py:206\u001b[0m, in \u001b[0;36m_deepcopy_list\u001b[0;34m(x, memo, deepcopy)\u001b[0m\n\u001b[1;32m    204\u001b[0m append \u001b[39m=\u001b[39m y\u001b[39m.\u001b[39mappend\n\u001b[1;32m    205\u001b[0m \u001b[39mfor\u001b[39;00m a \u001b[39min\u001b[39;00m x:\n\u001b[0;32m--> 206\u001b[0m     append(deepcopy(a, memo))\n\u001b[1;32m    207\u001b[0m \u001b[39mreturn\u001b[39;00m y\n",
      "\u001b[0;31mKeyboardInterrupt\u001b[0m: "
     ]
    }
   ],
   "source": [
    "# FOR RANDOM 100\n",
    "print(\"*\"*10,\"EXPERIMENT: START FROM RANDOM NODE\", \"*\"*10)\n",
    "\n",
    "random_list = [random.randint(0,NR_NODES-1) for i in range(100)]\n",
    "\n",
    "res_random, best_tour_random,index_random =  repeat(two_regret_greedy_cycle, random_list , matrix, cost_list, NR_NODES, HALF_NODES)\n",
    "print(\"\\nFOR 2-regret\")\n",
    "present_statistic(res_random)\n",
    "plotMap(data, best_tour_random)"
   ]
  },
  {
   "cell_type": "code",
   "execution_count": 5,
   "metadata": {},
   "outputs": [
    {
     "name": "stdout",
     "output_type": "stream",
     "text": [
      "********** EXPERIMENT: CONSECUTIVE START FROM EVERY NODE **********\n",
      "0 74110.0\n",
      "1 76397.0\n",
      "2 74256.0\n",
      "3 74344.0\n",
      "4 75474.0\n",
      "5 71187.0\n",
      "6 74773.0\n",
      "7 74731.0\n",
      "8 73876.0\n",
      "9 75421.0\n",
      "10 73760.0\n",
      "11 77233.0\n",
      "12 74960.0\n",
      "13 75711.0\n",
      "14 77646.0\n",
      "15 76443.0\n",
      "16 75528.0\n",
      "17 73517.0\n",
      "18 75281.0\n",
      "19 73836.0\n",
      "20 75524.0\n"
     ]
    },
    {
     "ename": "KeyboardInterrupt",
     "evalue": "",
     "output_type": "error",
     "traceback": [
      "\u001b[0;31m---------------------------------------------------------------------------\u001b[0m",
      "\u001b[0;31mKeyboardInterrupt\u001b[0m                         Traceback (most recent call last)",
      "\u001b[1;32m/home/zuzabu/projects/tsp/tsp_2.ipynb Komórka 4\u001b[0m line \u001b[0;36m5\n\u001b[1;32m      <a href='vscode-notebook-cell:/home/zuzabu/projects/tsp/tsp_2.ipynb#W3sZmlsZQ%3D%3D?line=1'>2</a>\u001b[0m \u001b[39mprint\u001b[39m(\u001b[39m\"\u001b[39m\u001b[39m*\u001b[39m\u001b[39m\"\u001b[39m\u001b[39m*\u001b[39m\u001b[39m10\u001b[39m,\u001b[39m\"\u001b[39m\u001b[39mEXPERIMENT: CONSECUTIVE START FROM EVERY NODE\u001b[39m\u001b[39m\"\u001b[39m, \u001b[39m\"\u001b[39m\u001b[39m*\u001b[39m\u001b[39m\"\u001b[39m\u001b[39m*\u001b[39m\u001b[39m10\u001b[39m)\n\u001b[1;32m      <a href='vscode-notebook-cell:/home/zuzabu/projects/tsp/tsp_2.ipynb#W3sZmlsZQ%3D%3D?line=3'>4</a>\u001b[0m every_node_list \u001b[39m=\u001b[39m \u001b[39mlist\u001b[39m(\u001b[39mrange\u001b[39m(NR_NODES))\n\u001b[0;32m----> <a href='vscode-notebook-cell:/home/zuzabu/projects/tsp/tsp_2.ipynb#W3sZmlsZQ%3D%3D?line=4'>5</a>\u001b[0m res, best_tour, index_best_tour \u001b[39m=\u001b[39m  repeat(two_regret_greedy_cycle, every_node_list , matrix, cost_list, NR_NODES, HALF_NODES)\n\u001b[1;32m      <a href='vscode-notebook-cell:/home/zuzabu/projects/tsp/tsp_2.ipynb#W3sZmlsZQ%3D%3D?line=5'>6</a>\u001b[0m \u001b[39mprint\u001b[39m(\u001b[39m\"\u001b[39m\u001b[39m\\n\u001b[39;00m\u001b[39mFOR 2-regret\u001b[39m\u001b[39m\"\u001b[39m)\n\u001b[1;32m      <a href='vscode-notebook-cell:/home/zuzabu/projects/tsp/tsp_2.ipynb#W3sZmlsZQ%3D%3D?line=6'>7</a>\u001b[0m present_statistic(res)\n",
      "File \u001b[0;32m~/projects/tsp/utils.py:90\u001b[0m, in \u001b[0;36mrepeat\u001b[0;34m(method, indices, distance_matrix, cost_list, NR_NODES, HALF_NODES)\u001b[0m\n\u001b[1;32m     88\u001b[0m best_ind \u001b[39m=\u001b[39m \u001b[39m-\u001b[39m\u001b[39m1\u001b[39m\n\u001b[1;32m     89\u001b[0m \u001b[39mfor\u001b[39;00m i \u001b[39min\u001b[39;00m indices:\n\u001b[0;32m---> 90\u001b[0m     cost, sol \u001b[39m=\u001b[39m method(distance_matrix, cost_list, NR_NODES, HALF_NODES, i)\n\u001b[1;32m     91\u001b[0m     total_cost\u001b[39m.\u001b[39mappend(cost)\n\u001b[1;32m     92\u001b[0m     \u001b[39mif\u001b[39;00m cost\u001b[39m<\u001b[39mbest_cost:\n",
      "File \u001b[0;32m~/projects/tsp/algorithms.py:28\u001b[0m, in \u001b[0;36mtwo_regret_greedy_cycle\u001b[0;34m(distance_matrix, cost_list, NR_NODES, HALF_NODES, starting_node, verbose)\u001b[0m\n\u001b[1;32m     25\u001b[0m max_regrets \u001b[39m=\u001b[39m [\u001b[39m-\u001b[39m\u001b[39m1\u001b[39m \u001b[39mfor\u001b[39;00m i \u001b[39min\u001b[39;00m \u001b[39mrange\u001b[39m(NR_NODES)]\n\u001b[1;32m     26\u001b[0m \u001b[39mfor\u001b[39;00m new_node \u001b[39min\u001b[39;00m non_visited:\n\u001b[1;32m     27\u001b[0m     \u001b[39m#we assume that we are adding new node in the shortest way\u001b[39;00m\n\u001b[0;32m---> 28\u001b[0m     edge_index \u001b[39m=\u001b[39m np\u001b[39m.\u001b[39;49margmin(start_dist_matrix[new_node], axis\u001b[39m=\u001b[39;49m\u001b[39m0\u001b[39;49m)\n\u001b[1;32m     29\u001b[0m     edge \u001b[39m=\u001b[39m cur_tour[edge_index]\n\u001b[1;32m     31\u001b[0m     \u001b[39m#if we add new_node in place of edge\u001b[39;00m\n",
      "File \u001b[0;32m~/.local/lib/python3.10/site-packages/numpy/core/fromnumeric.py:1232\u001b[0m, in \u001b[0;36m_argmin_dispatcher\u001b[0;34m(a, axis, out, keepdims)\u001b[0m\n\u001b[1;32m   1228\u001b[0m     kwds \u001b[39m=\u001b[39m {\u001b[39m'\u001b[39m\u001b[39mkeepdims\u001b[39m\u001b[39m'\u001b[39m: keepdims} \u001b[39mif\u001b[39;00m keepdims \u001b[39mis\u001b[39;00m \u001b[39mnot\u001b[39;00m np\u001b[39m.\u001b[39m_NoValue \u001b[39melse\u001b[39;00m {}\n\u001b[1;32m   1229\u001b[0m     \u001b[39mreturn\u001b[39;00m _wrapfunc(a, \u001b[39m'\u001b[39m\u001b[39margmax\u001b[39m\u001b[39m'\u001b[39m, axis\u001b[39m=\u001b[39maxis, out\u001b[39m=\u001b[39mout, \u001b[39m*\u001b[39m\u001b[39m*\u001b[39mkwds)\n\u001b[0;32m-> 1232\u001b[0m \u001b[39mdef\u001b[39;00m \u001b[39m_argmin_dispatcher\u001b[39m(a, axis\u001b[39m=\u001b[39m\u001b[39mNone\u001b[39;00m, out\u001b[39m=\u001b[39m\u001b[39mNone\u001b[39;00m, \u001b[39m*\u001b[39m, keepdims\u001b[39m=\u001b[39mnp\u001b[39m.\u001b[39m_NoValue):\n\u001b[1;32m   1233\u001b[0m     \u001b[39mreturn\u001b[39;00m (a, out)\n\u001b[1;32m   1236\u001b[0m \u001b[39m@array_function_dispatch\u001b[39m(_argmin_dispatcher)\n\u001b[1;32m   1237\u001b[0m \u001b[39mdef\u001b[39;00m \u001b[39margmin\u001b[39m(a, axis\u001b[39m=\u001b[39m\u001b[39mNone\u001b[39;00m, out\u001b[39m=\u001b[39m\u001b[39mNone\u001b[39;00m, \u001b[39m*\u001b[39m, keepdims\u001b[39m=\u001b[39mnp\u001b[39m.\u001b[39m_NoValue):\n",
      "\u001b[0;31mKeyboardInterrupt\u001b[0m: "
     ]
    }
   ],
   "source": [
    "# START FROM EVERY NODE\n",
    "print(\"*\"*10,\"EXPERIMENT: CONSECUTIVE START FROM EVERY NODE\", \"*\"*10)\n",
    "\n",
    "every_node_list = list(range(NR_NODES))\n",
    "res, best_tour, index_best_tour =  repeat(two_regret_greedy_cycle, every_node_list , matrix, cost_list, NR_NODES, HALF_NODES)\n",
    "print(\"\\nFOR 2-regret\")\n",
    "present_statistic(res)\n",
    "plotMap(data, best_tour, cost = is_cost)\n",
    "print(best_tour)\n"
   ]
  }
 ],
 "metadata": {
  "kernelspec": {
   "display_name": "Python 3",
   "language": "python",
   "name": "python3"
  },
  "language_info": {
   "codemirror_mode": {
    "name": "ipython",
    "version": 3
   },
   "file_extension": ".py",
   "mimetype": "text/x-python",
   "name": "python",
   "nbconvert_exporter": "python",
   "pygments_lexer": "ipython3",
   "version": "3.10.12"
  }
 },
 "nbformat": 4,
 "nbformat_minor": 2
}
